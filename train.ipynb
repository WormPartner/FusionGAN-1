{
 "cells": [
  {
   "cell_type": "code",
   "execution_count": 1,
   "metadata": {
    "collapsed": true
   },
   "outputs": [],
   "source": [
    "import torch\n",
    "import torch.optim as optim\n",
    "import torch.nn.functional as F\n",
    "from torch.utils.data import DataLoader\n",
    "from torchvision import transforms, utils\n",
    "\n",
    "import time\n",
    "import numpy as np\n",
    "import os\n",
    "import pickle\n",
    "from PIL import Image\n",
    "import matplotlib.pyplot as plt\n",
    "plt.ion()\n",
    "\n",
    "from model.generator import *\n",
    "from model.discriminator import NLayerDiscriminator as Discriminator\n",
    "from utils.dataloader import YouTubePose\n",
    "from utils.loss_functions import lossIdentity, lossShape"
   ]
  },
  {
   "cell_type": "code",
   "execution_count": 2,
   "metadata": {
    "collapsed": true
   },
   "outputs": [],
   "source": [
    "dataset_dir = './Dataset/'\n",
    "checkpoint_path = \"./model_checkpoints/\"\n",
    "batch_size = 4\n",
    "epochs = 10\n",
    "device = 'cuda' if torch.cuda.is_available() else 'cpu'\n",
    "learning_rate = 0.01\n",
    "alpha = 1\n",
    "beta = 1"
   ]
  },
  {
   "cell_type": "code",
   "execution_count": 3,
   "metadata": {
    "collapsed": true
   },
   "outputs": [],
   "source": [
    "with open('./dataset_lists/train_datapoint_triplets.pkl', 'rb') as f:\n",
    "    datapoint_pairs = pickle.load(f)"
   ]
  },
  {
   "cell_type": "code",
   "execution_count": 4,
   "metadata": {
    "collapsed": true
   },
   "outputs": [],
   "source": [
    "with open('./dataset_lists/train_shapeLoss_pairs.pkl', 'rb') as f:\n",
    "    shapeLoss_datapoint_pairs = pickle.load(f)"
   ]
  },
  {
   "cell_type": "code",
   "execution_count": 5,
   "metadata": {
    "collapsed": true
   },
   "outputs": [],
   "source": [
    "transform = transforms.Compose([\n",
    "    transforms.Resize((256, 256)),\n",
    "    transforms.ToTensor()\n",
    "])"
   ]
  },
  {
   "cell_type": "code",
   "execution_count": 6,
   "metadata": {
    "collapsed": true
   },
   "outputs": [],
   "source": [
    "train_dataset = YouTubePose(datapoint_pairs, shapeLoss_datapoint_pairs, dataset_dir, transform)\n",
    "train_dataloader = DataLoader(train_dataset, batch_size=batch_size, shuffle=True,\n",
    "                                             num_workers=0)\n",
    "dataset_sizes = [len(train_dataset)]"
   ]
  },
  {
   "cell_type": "code",
   "execution_count": 7,
   "metadata": {
    "collapsed": true
   },
   "outputs": [],
   "source": [
    "generator = Generator(ResidualBlock)"
   ]
  },
  {
   "cell_type": "code",
   "execution_count": 8,
   "metadata": {
    "collapsed": true
   },
   "outputs": [],
   "source": [
    "discriminator = Discriminator(3)"
   ]
  },
  {
   "cell_type": "code",
   "execution_count": 9,
   "metadata": {
    "collapsed": true
   },
   "outputs": [],
   "source": [
    "generator = generator.to(device)\n",
    "discriminator = discriminator.to(device)"
   ]
  },
  {
   "cell_type": "code",
   "execution_count": 10,
   "metadata": {
    "collapsed": true
   },
   "outputs": [],
   "source": [
    "optimizer_gen = optim.SGD(generator.parameters(), lr = learning_rate, momentum=0.9)\n",
    "optimizer_disc = optim.SGD(discriminator.parameters(), lr = learning_rate, momentum=0.9)"
   ]
  },
  {
   "cell_type": "code",
   "execution_count": 11,
   "metadata": {
    "collapsed": true
   },
   "outputs": [],
   "source": [
    "def save_checkpoint(state, dirpath, epoch):\n",
    "    filename = 'checkpoint-{}.ckpt'.format(epoch)\n",
    "    checkpoint_path = os.path.join(dirpath, filename)\n",
    "    torch.save(state, checkpoint_path)\n",
    "    print('--- checkpoint saved to ' + str(checkpoint_path) + ' ---')"
   ]
  },
  {
   "cell_type": "code",
   "execution_count": 12,
   "metadata": {
    "collapsed": true
   },
   "outputs": [],
   "source": [
    "def train_model(gen, disc, loss_i, loss_s, optimizer_gen, optimizer_disc, alpha = 1, beta = 1, num_epochs = 10):\n",
    "    for epoch in range(num_epochs):\n",
    "        print(\"Epoch {}/{}\".format(epoch, num_epochs - 1))\n",
    "        print('-'*10)\n",
    "        dataloader = train_dataloader\n",
    "        gen.train()\n",
    "        disc.train()\n",
    "        since = time.time()\n",
    "        running_loss_iden = 0.0\n",
    "        running_loss_s1 = 0.0\n",
    "        running_loss_s2a = 0.0\n",
    "        running_loss_s2b = 0.0\n",
    "        running_loss = 0.0\n",
    "        \n",
    "        for i_batch, sample_batched in enumerate(dataloader):\n",
    "            x_gen, y, x_dis = sample_batched['x_gen'], sample_batched['y'], sample_batched['x_dis']\n",
    "            iden_1, iden_2 = sample_batched['iden_1'], sample_batched['iden_2']\n",
    "            x_gen = x_gen.to(device)\n",
    "            y = y.to(device)\n",
    "            x_dis = x_dis.to(device)\n",
    "            iden_1 = iden_1.to(device)\n",
    "            iden_2 = iden_2.to(device)\n",
    "            \n",
    "            optimizer_gen.zero_grad()\n",
    "            optimizer_disc.zero_grad()\n",
    "            \n",
    "            with torch.set_grad_enabled(True):\n",
    "                x_generated = gen(x_gen, y)\n",
    "                print('forward 1 done')\n",
    "                fake_op, fake_pooled_op = disc(x_gen, x_generated)\n",
    "                real_op, real_pooled_op = disc(x_gen, x_dis)\n",
    "                loss_identity_gen = -loss_i(real_pooled_op, fake_pooled_op)\n",
    "                print('Loss calculated')\n",
    "                loss_identity_gen.backward(retain_graph=True)\n",
    "                optimizer_gen.step()\n",
    "                print('backward 1.1 done')\n",
    "                \n",
    "                optimizer_disc.zero_grad()\n",
    "                loss_identity_disc = loss_i(real_op, fake_op)\n",
    "                print('Loss calculated')\n",
    "                loss_identity_disc.backward(retain_graph=True)\n",
    "                optimizer_disc.step()\n",
    "                print('backward 1.2 done')\n",
    "\n",
    "                optimizer_gen.zero_grad()\n",
    "                optimizer_disc.zero_grad()\n",
    "                x_ls2a = gen(y, x_generated)\n",
    "                x_ls2b = gen(x_generated, y)\n",
    "                print('forward 2 done')\n",
    "\n",
    "                loss_s2a = loss_s(y, x_ls2a)\n",
    "                loss_s2b = loss_s(x_generated, x_ls2b)\n",
    "                loss_s2 = loss_s2a + loss_s2b\n",
    "                print('Loss calculated')\n",
    "\n",
    "                loss_s2.backward()\n",
    "                optimizer_gen.step()\n",
    "                print('backward 2 done')\n",
    "\n",
    "                optimizer_gen.zero_grad()\n",
    "                optimizer_disc.zero_grad()\n",
    "                \n",
    "                x_ls1 = generator(iden_1, iden_2)\n",
    "                print('forward 3 done')\n",
    "\n",
    "                loss_s1 = loss_s(iden_2, x_ls1)\n",
    "                print('Loss calculated')\n",
    "                loss_s1.backward()\n",
    "                optimizer_gen.step()\n",
    "                print('backward 5 done')\n",
    "#                 print()\n",
    "            running_loss_iden += loss_identity_disc.item() * x_gen.size(0)\n",
    "            running_loss_s1 += loss_s1.item() * x_gen.size(0)\n",
    "            running_loss_s2a += loss_s2a.item() * x_gen.size(0) \n",
    "            running_loss_s2b += loss_s2b.item() * x_gen.size(0)\n",
    "            running_loss = running_loss_iden +  beta * (running_loss_s1 + alpha * (running_loss_s2a + running_loss_s2b))\n",
    "#             print(str(time.time() - since))\n",
    "#             since = time.time()\n",
    "#             break\n",
    "        epoch_loss_iden = running_loss_iden / dataset_sizes[0]\n",
    "        epoch_loss_s1 = running_loss_s1 / dataset_sizes[0]\n",
    "        epoch_loss_s2a = running_loss_s2a / dataset_sizes[0]\n",
    "        epoch_loss_s2b = running_loss_s2a / dataset_sizes[0]\n",
    "        epoch_loss = running_loss / dataset_sizes[0]\n",
    "        print('Identity Loss: {:.4f} Loss Shape1: {:.4f} Loss Shape2a: {:.4f} \\\n",
    "               Loss Shape2b: {:.4f}'.format(epoch_loss_iden, epoch_loss_s1,\n",
    "                                           epoch_loss_s2a, epoch_loss_s2b))\n",
    "        print('Epoch Loss: {:.4f}'.format(epoch_loss))\n",
    "        \n",
    "        save_checkpoint({\n",
    "            'epoch': epoch + 1,\n",
    "            'gen_state_dict': gen.state_dict(),\n",
    "            'disc_state_dict': disc.state_dict(),\n",
    "            'gen_opt': optimizer_gen.state_dict(),\n",
    "            'disc_opt': optimizer_disc.state_dict()\n",
    "        }, checkpoint_path, epoch + 1)\n",
    "        print('Time taken by epoch: {: .0f}m {:0f}s'.format((time.time() - since) // 60, (time.time() - since) % 60))\n",
    "#         print('Time Taken: ' + str(time.time() - since))\n",
    "        print()\n",
    "        since = time.time()\n",
    "\n",
    "    return gen, disc"
   ]
  },
  {
   "cell_type": "code",
   "execution_count": 13,
   "metadata": {},
   "outputs": [
    {
     "name": "stdout",
     "output_type": "stream",
     "text": [
      "Epoch 0/9\n",
      "----------\n",
      "forward 1 done\n",
      "Loss calculated\n",
      "backward 1.1 done\n",
      "Loss calculated\n",
      "backward 1.2 done\n",
      "forward 2 done\n",
      "Loss calculated\n",
      "backward 2 done\n",
      "forward 3 done\n",
      "Loss calculated\n",
      "backward 5 done\n",
      "Identity Loss: 0.9838 Loss Shape1: 31311181.1413 Loss Shape2a: 17.8400                Loss Shape2b: 17.8400\n",
      "Epoch Loss: 31311216.8534\n",
      "--- checkpoint saved to ./model_checkpoints/checkpoint-1.ckpt---\n",
      "Time taken by epoch:  1m 26.590633s\n",
      "Epoch 1/9\n",
      "----------\n",
      "forward 1 done\n",
      "Loss calculated\n",
      "backward 1.1 done\n",
      "Loss calculated\n",
      "backward 1.2 done\n",
      "forward 2 done\n",
      "Loss calculated\n",
      "backward 2 done\n",
      "forward 3 done\n",
      "Loss calculated\n",
      "backward 5 done\n",
      "Identity Loss: 113661673.4720 Loss Shape1: 610217436397882880.0000 Loss Shape2a: 60414435914678.2734                Loss Shape2b: 60414435914678.2734\n",
      "Epoch Loss: 610309851614910464.0000\n",
      "--- checkpoint saved to ./model_checkpoints/checkpoint-2.ckpt---\n",
      "Time taken by epoch:  1m 23.384664s\n",
      "Epoch 2/9\n",
      "----------\n",
      "forward 1 done\n",
      "Loss calculated\n",
      "backward 1.1 done\n",
      "Loss calculated\n",
      "backward 1.2 done\n",
      "forward 2 done\n",
      "Loss calculated\n",
      "backward 2 done\n",
      "forward 3 done\n",
      "Loss calculated\n",
      "backward 5 done\n",
      "Identity Loss: 29147374151963356700054711697408.0000 Loss Shape1: 12.8180 Loss Shape2a: 15.2260                Loss Shape2b: 15.2260\n",
      "Epoch Loss: 29147374151963356700054711697408.0000\n",
      "--- checkpoint saved to ./model_checkpoints/checkpoint-3.ckpt---\n",
      "Time taken by epoch:  1m 20.289059s\n",
      "Epoch 3/9\n",
      "----------\n",
      "forward 1 done\n",
      "Loss calculated\n"
     ]
    },
    {
     "ename": "KeyboardInterrupt",
     "evalue": "",
     "output_type": "error",
     "traceback": [
      "\u001b[1;31m---------------------------------------------------------------------------\u001b[0m",
      "\u001b[1;31mKeyboardInterrupt\u001b[0m                         Traceback (most recent call last)",
      "\u001b[1;32m<ipython-input-13-05b2221be778>\u001b[0m in \u001b[0;36m<module>\u001b[1;34m()\u001b[0m\n\u001b[1;32m----> 1\u001b[1;33m \u001b[0mgenerator\u001b[0m\u001b[1;33m,\u001b[0m \u001b[0mdiscriminator\u001b[0m \u001b[1;33m=\u001b[0m \u001b[0mtrain_model\u001b[0m\u001b[1;33m(\u001b[0m\u001b[0mgenerator\u001b[0m\u001b[1;33m,\u001b[0m \u001b[0mdiscriminator\u001b[0m\u001b[1;33m,\u001b[0m \u001b[0mlossIdentity\u001b[0m\u001b[1;33m,\u001b[0m \u001b[0mlossShape\u001b[0m\u001b[1;33m,\u001b[0m \u001b[0moptimizer_gen\u001b[0m\u001b[1;33m,\u001b[0m \u001b[0moptimizer_disc\u001b[0m\u001b[1;33m,\u001b[0m \u001b[0malpha\u001b[0m\u001b[1;33m=\u001b[0m\u001b[0malpha\u001b[0m\u001b[1;33m,\u001b[0m \u001b[0mbeta\u001b[0m\u001b[1;33m=\u001b[0m\u001b[0mbeta\u001b[0m\u001b[1;33m,\u001b[0m \u001b[0mnum_epochs\u001b[0m\u001b[1;33m=\u001b[0m\u001b[0mepochs\u001b[0m\u001b[1;33m)\u001b[0m\u001b[1;33m\u001b[0m\u001b[0m\n\u001b[0m",
      "\u001b[1;32m<ipython-input-12-2be7e2608770>\u001b[0m in \u001b[0;36mtrain_model\u001b[1;34m(gen, disc, loss_i, loss_s, optimizer_gen, optimizer_disc, alpha, beta, num_epochs)\u001b[0m\n\u001b[0;32m     32\u001b[0m                 \u001b[0mloss_identity_gen\u001b[0m \u001b[1;33m=\u001b[0m \u001b[1;33m-\u001b[0m\u001b[0mloss_i\u001b[0m\u001b[1;33m(\u001b[0m\u001b[0mreal_pooled_op\u001b[0m\u001b[1;33m,\u001b[0m \u001b[0mfake_pooled_op\u001b[0m\u001b[1;33m)\u001b[0m\u001b[1;33m\u001b[0m\u001b[0m\n\u001b[0;32m     33\u001b[0m                 \u001b[0mprint\u001b[0m\u001b[1;33m(\u001b[0m\u001b[1;34m'Loss calculated'\u001b[0m\u001b[1;33m)\u001b[0m\u001b[1;33m\u001b[0m\u001b[0m\n\u001b[1;32m---> 34\u001b[1;33m                 \u001b[0mloss_identity_gen\u001b[0m\u001b[1;33m.\u001b[0m\u001b[0mbackward\u001b[0m\u001b[1;33m(\u001b[0m\u001b[0mretain_graph\u001b[0m\u001b[1;33m=\u001b[0m\u001b[1;32mTrue\u001b[0m\u001b[1;33m)\u001b[0m\u001b[1;33m\u001b[0m\u001b[0m\n\u001b[0m\u001b[0;32m     35\u001b[0m                 \u001b[0moptimizer_gen\u001b[0m\u001b[1;33m.\u001b[0m\u001b[0mstep\u001b[0m\u001b[1;33m(\u001b[0m\u001b[1;33m)\u001b[0m\u001b[1;33m\u001b[0m\u001b[0m\n\u001b[0;32m     36\u001b[0m                 \u001b[0mprint\u001b[0m\u001b[1;33m(\u001b[0m\u001b[1;34m'backward 1.1 done'\u001b[0m\u001b[1;33m)\u001b[0m\u001b[1;33m\u001b[0m\u001b[0m\n",
      "\u001b[1;32m~\\Anaconda3\\envs\\tensorflow\\lib\\site-packages\\torch\\tensor.py\u001b[0m in \u001b[0;36mbackward\u001b[1;34m(self, gradient, retain_graph, create_graph)\u001b[0m\n\u001b[0;32m     91\u001b[0m                 \u001b[0mproducts\u001b[0m\u001b[1;33m.\u001b[0m \u001b[0mDefaults\u001b[0m \u001b[0mto\u001b[0m\u001b[0;31m \u001b[0m\u001b[0;31m`\u001b[0m\u001b[0;31m`\u001b[0m\u001b[1;32mFalse\u001b[0m\u001b[0;31m`\u001b[0m\u001b[0;31m`\u001b[0m\u001b[1;33m.\u001b[0m\u001b[1;33m\u001b[0m\u001b[0m\n\u001b[0;32m     92\u001b[0m         \"\"\"\n\u001b[1;32m---> 93\u001b[1;33m         \u001b[0mtorch\u001b[0m\u001b[1;33m.\u001b[0m\u001b[0mautograd\u001b[0m\u001b[1;33m.\u001b[0m\u001b[0mbackward\u001b[0m\u001b[1;33m(\u001b[0m\u001b[0mself\u001b[0m\u001b[1;33m,\u001b[0m \u001b[0mgradient\u001b[0m\u001b[1;33m,\u001b[0m \u001b[0mretain_graph\u001b[0m\u001b[1;33m,\u001b[0m \u001b[0mcreate_graph\u001b[0m\u001b[1;33m)\u001b[0m\u001b[1;33m\u001b[0m\u001b[0m\n\u001b[0m\u001b[0;32m     94\u001b[0m \u001b[1;33m\u001b[0m\u001b[0m\n\u001b[0;32m     95\u001b[0m     \u001b[1;32mdef\u001b[0m \u001b[0mregister_hook\u001b[0m\u001b[1;33m(\u001b[0m\u001b[0mself\u001b[0m\u001b[1;33m,\u001b[0m \u001b[0mhook\u001b[0m\u001b[1;33m)\u001b[0m\u001b[1;33m:\u001b[0m\u001b[1;33m\u001b[0m\u001b[0m\n",
      "\u001b[1;32m~\\Anaconda3\\envs\\tensorflow\\lib\\site-packages\\torch\\autograd\\__init__.py\u001b[0m in \u001b[0;36mbackward\u001b[1;34m(tensors, grad_tensors, retain_graph, create_graph, grad_variables)\u001b[0m\n\u001b[0;32m     87\u001b[0m     Variable._execution_engine.run_backward(\n\u001b[0;32m     88\u001b[0m         \u001b[0mtensors\u001b[0m\u001b[1;33m,\u001b[0m \u001b[0mgrad_tensors\u001b[0m\u001b[1;33m,\u001b[0m \u001b[0mretain_graph\u001b[0m\u001b[1;33m,\u001b[0m \u001b[0mcreate_graph\u001b[0m\u001b[1;33m,\u001b[0m\u001b[1;33m\u001b[0m\u001b[0m\n\u001b[1;32m---> 89\u001b[1;33m         allow_unreachable=True)  # allow_unreachable flag\n\u001b[0m\u001b[0;32m     90\u001b[0m \u001b[1;33m\u001b[0m\u001b[0m\n\u001b[0;32m     91\u001b[0m \u001b[1;33m\u001b[0m\u001b[0m\n",
      "\u001b[1;31mKeyboardInterrupt\u001b[0m: "
     ]
    }
   ],
   "source": [
    "generator, discriminator = train_model(generator, discriminator, lossIdentity, lossShape, optimizer_gen, optimizer_disc, alpha=alpha, beta=beta, num_epochs=epochs)"
   ]
  },
  {
   "cell_type": "code",
   "execution_count": null,
   "metadata": {
    "collapsed": true
   },
   "outputs": [],
   "source": []
  }
 ],
 "metadata": {
  "kernelspec": {
   "display_name": "Python 3",
   "language": "python",
   "name": "python3"
  },
  "language_info": {
   "codemirror_mode": {
    "name": "ipython",
    "version": 3
   },
   "file_extension": ".py",
   "mimetype": "text/x-python",
   "name": "python",
   "nbconvert_exporter": "python",
   "pygments_lexer": "ipython3",
   "version": "3.5.4"
  }
 },
 "nbformat": 4,
 "nbformat_minor": 2
}
